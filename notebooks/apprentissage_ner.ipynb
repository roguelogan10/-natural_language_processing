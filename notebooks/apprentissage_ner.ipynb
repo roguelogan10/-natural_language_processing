{
 "cells": [
  {
   "cell_type": "code",
   "execution_count": null,
   "metadata": {},
   "outputs": [
    {
     "data": {
      "text/plain": [
       "spacy.lang.en.English"
      ]
     },
     "execution_count": 8,
     "metadata": {},
     "output_type": "execute_result"
    }
   ],
   "source": [
    "import spacy\n",
    "nlp= spacy.load('en_core_web_sm')  # Spacy english models \n",
    "type(nlp)"
   ]
  },
  {
   "cell_type": "code",
   "execution_count": null,
   "metadata": {},
   "outputs": [
    {
     "data": {
      "text/plain": [
       "['tok2vec', 'tagger', 'parser', 'attribute_ruler', 'lemmatizer', 'ner']"
      ]
     },
     "execution_count": 10,
     "metadata": {},
     "output_type": "execute_result"
    }
   ],
   "source": [
    "# look at the liste of all the pipe names in spacy english models\n",
    "nlp.pipe_names   "
   ]
  },
  {
   "cell_type": "markdown",
   "metadata": {},
   "source": [
    "We observe that there is a pipe named 'ner' for Named Entity Recognition. Let's see how this particular components works.\n"
   ]
  },
  {
   "cell_type": "code",
   "execution_count": null,
   "metadata": {},
   "outputs": [
    {
     "name": "stdout",
     "output_type": "stream",
     "text": [
      "Tesla inc | ORG | Companies, agencies, institutions, etc.\n",
      "45 | MONEY | Monetary values, including unit\n"
     ]
    }
   ],
   "source": [
    "doc = nlp('Tesla inc is going to acquire twitter for $45 billons of dollars')  # a string transformed into a spacy statement\n",
    "\n",
    "for entity in doc.ents:\n",
    "    print(entity.text, \"|\",entity.label_,\"|\",spacy.explain( entity.label_))\n"
   ]
  },
  {
   "cell_type": "markdown",
   "metadata": {},
   "source": [
    "In the porecedents code, we use le nlp object to transform the string `Tesla inc is going to acquire twitter for $45 billons of dollars` into a spacy statements named `doc`. After that we look into the that statement to detect the entities within it with a `for` loop and the `.ents` attributes. "
   ]
  },
  {
   "cell_type": "markdown",
   "metadata": {},
   "source": []
  }
 ],
 "metadata": {
  "kernelspec": {
   "display_name": "mon_env",
   "language": "python",
   "name": "python3"
  },
  "language_info": {
   "codemirror_mode": {
    "name": "ipython",
    "version": 3
   },
   "file_extension": ".py",
   "mimetype": "text/x-python",
   "name": "python",
   "nbconvert_exporter": "python",
   "pygments_lexer": "ipython3",
   "version": "3.7.16"
  }
 },
 "nbformat": 4,
 "nbformat_minor": 2
}
