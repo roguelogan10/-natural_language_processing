{
 "cells": [
  {
   "cell_type": "markdown",
   "metadata": {},
   "source": [
    "# Introduction aux expressions regulieres avec python\n",
    "\n",
    "### Definition:\n",
    "\n",
    "**Une expression régulière:** (souvent abrégée en regex ou regexp) est une séquence de caractères qui définit un modèle de recherche. Ce sont des chaînes de caractères spéciaux qui nous permettent de faire correspondre des motifs chaînes de caractères avec d'autres chaînes de caractères.\n",
    "\n",
    "Les motifs chaines de caracteres sont une sequences de lettres, de symboles et/ou de chiffres qui peuvent correspondre a un mot, un texte ou a une chaine de caractere.\n",
    "\n",
    "\n",
    "### Utilité des expressions régulières\n",
    "Les expressions régulières sont couramment utilisées en programmation, dans des outils comme les éditeurs de texte avancés ou des scripts pour:\n",
    "\n",
    "- Valider des formats (emails, numéros de téléphone, adresses IP, etc.): S'assurer si un texte est dans le bon format avant de le traiter.\n",
    "- Rechercher et remplacer des parties spécifiques d'un texte.\n",
    "- Extraire des données d'un fichier ou d'une chaîne de caractères.\n",
    "- Diviser une chaîne en plusieurs parties.\n",
    "\n",
    "Dans python le module `re` (pour \"regular expression\") est souvent utilisees pour faire des taches d'expressions regulieres.\n",
    "\n",
    "### Quelques fonctions et expressions motifs de correspondances du module re\n",
    "\n",
    "Liste des  metacaracteres:`[],{},(),\\,*,+,^,$,?,.,|`\n",
    "\n",
    "Liste des characteres predefinis: `d,D,s,S,w,W`. Les lettres capitaux sont les negatifs des lettres miniscules. Ces lettres predefinies sont precedees du characteres backslash `\\` lors du matching avec d'autres chaines de characteres.\n",
    "\n",
    "|Character class| Matches|\n",
    "|---|---|\n",
    "|\\d  | Any digit (0–9).|\n",
    "|\\D  | Any character that is not a digit.|\n",
    "|\\s  | Any whitespace character (such as spaces, tabs and newlines).|\n",
    "|\\S  | Any character that is not a whitespace character.|\n",
    "| \\w | Any word character (also called an alphanumeric character)—that is,any uppercase or lowercase letter, any digit or an underscore|\n",
    "| \\W | Any character that is not a word character.|\n",
    "\n",
    "\n",
    "\n",
    "\n",
    "ci dessous le tableau des motifs:\n",
    "\n",
    "|motifs| matches| exemple|\n",
    "|---|---|---|\n",
    "|\\w+|word| 'Magic'|\n",
    "|\\d|digit| 9 |\n",
    "|\\s|space| ''|\n",
    "|.*| wildcard| 'username74'|\n",
    "|+ or *|greedy match|'aaaaaa'| \n",
    "|\\S|not space|'no_spaces'|\n",
    "|[a-z]|lowercase group| 'abcdefg'|\n",
    "\n",
    "\n",
    "\n",
    "Celles des fonctions est la suivante:\n",
    "\n",
    "|Fonctions| Utilites|\n",
    "|---|---|\n",
    "|`split`| split a string on regex|\n",
    "|`findall`|find all patterns in a string|\n",
    "|`search`|search for a pattern|\n",
    "|`match` | match an entire string or substring based on a pattern|\n",
    "|`fullmatch`| checks whether the entire string in its second argument matches the pattern in its first argument|\n",
    "|\n",
    "\n",
    "\n",
    "On personnalise nos propres motifs avec des crochets.[].Exemple: '[aeiuo]'"
   ]
  },
  {
   "cell_type": "markdown",
   "metadata": {},
   "source": [
    "Exercices \n"
   ]
  },
  {
   "cell_type": "code",
   "execution_count": 21,
   "metadata": {},
   "outputs": [
    {
     "name": "stdout",
     "output_type": "stream",
     "text": [
      "[\"Let's write RegEx\", \"  Won't that be fun\", '  I sure think so', '  Can you find 4 sentences', '  Or perhaps, all 19 words', '']\n",
      "['Let', 'RegEx', 'Won', 'Can', 'Or']\n",
      "[\"Let's\", 'write', 'RegEx!', \"Won't\", 'that', 'be', 'fun?', 'I', 'sure', 'think', 'so.', 'Can', 'you', 'find', '4', 'sentences?', 'Or', 'perhaps,', 'all', '19', 'words?']\n",
      "['4', '19']\n"
     ]
    }
   ],
   "source": [
    "import re\n",
    "my_string = \"Let's write RegEx!  Won't that be fun?  I sure think so.  Can you find 4 sentences?  Or perhaps, all 19 words?\"\n",
    "\n",
    "# Write a pattern to match sentence endings: sentence_endings\n",
    "sentence_endings = r\"[.?!]\"\n",
    "\n",
    "# Split my_string on sentence endings and print the result\n",
    "print(re.split(sentence_endings, my_string))\n",
    "\n",
    "# Find all capitalized words in my_string and print the result\n",
    "capitalized_words = r\"[A-Z]\\w+\"\n",
    "print(re.findall(capitalized_words, my_string))\n",
    "\n",
    "# Split my_string on spaces and print the result\n",
    "spaces = r\"\\s+\"\n",
    "print(re.split(spaces , my_string))\n",
    "\n",
    "# Find all digits in my_string and print the result\n",
    "digits = r\"\\d+\"\n",
    "print(re.findall(digits, my_string))\n"
   ]
  },
  {
   "cell_type": "markdown",
   "metadata": {},
   "source": [
    "**Remarque:** il est important de préfixer vos modèles d'expressions régulières avec `r` pour vous assurer qu'ils sont interprétés comme vous le souhaitez. Sinon, vous risquez de rencontrer des problèmes liés aux séquences d'échappement dans les chaînes. Par exemple, `\"\\n\"` en Python, il est utilisé pour indiquer une nouvelle ligne, mais si vous utilisez le `r` préfixe, il sera interprété comme la chaîne brute `\"\\n\"` - c'est-à-dire le caractère `\"\\\"` suivi du caractère `\"n\"`- et non comme une nouvelle ligne. "
   ]
  },
  {
   "cell_type": "markdown",
   "metadata": {},
   "source": [
    "# Tokenization\n",
    "\n",
    "Est une technique pour transformer une chaine de caracteres ou un document en unite phrase ou de phrase appelees tokens. C'est une  etape de preparation de texte pour le traitement du langage naturel.\n",
    "\n",
    "Il existe differentes facons de faire la tokenization. Les plus repandu sont le suivantes:\n",
    "- diviser un texte en mots\n",
    "- separation par ponctuation\n",
    "- separation par hashtags dans un tweet\n",
    "Une librairie utiliser pour la tokenization est la `NLTK` (Natural Language ToolKit)\n",
    "\n"
   ]
  },
  {
   "cell_type": "code",
   "execution_count": null,
   "metadata": {},
   "outputs": [],
   "source": []
  }
 ],
 "metadata": {
  "kernelspec": {
   "display_name": "mon_env",
   "language": "python",
   "name": "python3"
  },
  "language_info": {
   "codemirror_mode": {
    "name": "ipython",
    "version": 3
   },
   "file_extension": ".py",
   "mimetype": "text/x-python",
   "name": "python",
   "nbconvert_exporter": "python",
   "pygments_lexer": "ipython3",
   "version": "3.7.16"
  }
 },
 "nbformat": 4,
 "nbformat_minor": 2
}
